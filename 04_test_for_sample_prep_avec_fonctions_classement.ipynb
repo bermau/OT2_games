{
 "cells": [
  {
   "cell_type": "markdown",
   "metadata": {},
   "source": [
    "# OT-2 Test 4 : prepare samples\n",
    "v 0.4 : mise en place d'un pipettage sur plusieurs plaques de départ."
   ]
  },
  {
   "cell_type": "code",
   "execution_count": 2,
   "metadata": {},
   "outputs": [],
   "source": [
    "import opentrons.execute\n",
    "from opentrons import protocol_api"
   ]
  },
  {
   "cell_type": "code",
   "execution_count": 3,
   "metadata": {},
   "outputs": [
    {
     "name": "stderr",
     "output_type": "stream",
     "text": [
      "Failed to initialize character device, will not be able to control gpios (lights, button, smoothiekill, smoothie reset). Only one connection can be made to the gpios at a time. If you need to control gpios, first stop the robot server with systemctl stop opentrons-robot-server. Until you restart the server with systemctl start opentrons-robot-server, you will be unable to control the robot using the Opentrons app.\n"
     ]
    }
   ],
   "source": [
    "protocol = opentrons.execute.get_protocol_api('2.9')"
   ]
  },
  {
   "cell_type": "code",
   "execution_count": 4,
   "metadata": {},
   "outputs": [],
   "source": [
    "protocol.home()"
   ]
  },
  {
   "cell_type": "markdown",
   "metadata": {},
   "source": [
    "# In Jupyter-Notebook, you don't need a run function."
   ]
  },
  {
   "cell_type": "code",
   "execution_count": 5,
   "metadata": {},
   "outputs": [],
   "source": [
    "plate = protocol.load_labware('corning_96_wellplate_360ul_flat', 1)\n",
    "tiprack_1 = protocol.load_labware('opentrons_96_tiprack_1000ul', 2)"
   ]
  },
  {
   "cell_type": "code",
   "execution_count": 6,
   "metadata": {},
   "outputs": [],
   "source": [
    "# déclaration de la pipette\n",
    "p1000 = protocol.load_instrument('p1000_single_gen2', 'left', tip_racks=[tiprack_1])\n",
    "# ordres à la pipette"
   ]
  },
  {
   "cell_type": "code",
   "execution_count": null,
   "metadata": {},
   "outputs": [],
   "source": [
    "p1000.transfer(15, plate['A1'], plate['B1'])\n",
    "p1000.transfer(15, plate['D5'], plate['H12'])"
   ]
  },
  {
   "cell_type": "code",
   "execution_count": 14,
   "metadata": {},
   "outputs": [
    {
     "data": {
      "text/plain": [
       "<InstrumentContext: p1000_single_v2.2 in LEFT>"
      ]
     },
     "execution_count": 14,
     "metadata": {},
     "output_type": "execute_result"
    }
   ],
   "source": [
    "p1000.transfer(15, plate['A1'], plate['B1'])\n",
    "p1000.transfer(15, plate['D5'], plate['H12'])"
   ]
  },
  {
   "cell_type": "code",
   "execution_count": null,
   "metadata": {},
   "outputs": [],
   "source": [
    "##  Exemple d'interraction"
   ]
  },
  {
   "cell_type": "markdown",
   "metadata": {},
   "source": [
    "### I do the first transfer"
   ]
  },
  {
   "cell_type": "code",
   "execution_count": 6,
   "metadata": {},
   "outputs": [
    {
     "name": "stdout",
     "output_type": "stream",
     "text": [
      "Nombre de tests ? 3\n"
     ]
    }
   ],
   "source": [
    "tests_nb = input (\"Nombre de tests ? \")"
   ]
  },
  {
   "cell_type": "code",
   "execution_count": 7,
   "metadata": {},
   "outputs": [
    {
     "name": "stdout",
     "output_type": "stream",
     "text": [
      "transfert Numéro : 0\n",
      "transfert Numéro : 1\n",
      "transfert Numéro : 2\n"
     ]
    }
   ],
   "source": [
    "for i in range(int(tests_nb)): \n",
    "    print(\"transfert Numéro :\", i)\n",
    "    p1000.transfer(15, plate['D5'], plate['H12'])"
   ]
  },
  {
   "cell_type": "code",
   "execution_count": 12,
   "metadata": {},
   "outputs": [
    {
     "data": {
      "text/plain": [
       "{'1': [A1 of Corning 96 Well Plate 360 µL Flat on 1,\n",
       "  B1 of Corning 96 Well Plate 360 µL Flat on 1,\n",
       "  C1 of Corning 96 Well Plate 360 µL Flat on 1,\n",
       "  D1 of Corning 96 Well Plate 360 µL Flat on 1,\n",
       "  E1 of Corning 96 Well Plate 360 µL Flat on 1,\n",
       "  F1 of Corning 96 Well Plate 360 µL Flat on 1,\n",
       "  G1 of Corning 96 Well Plate 360 µL Flat on 1,\n",
       "  H1 of Corning 96 Well Plate 360 µL Flat on 1],\n",
       " '2': [A2 of Corning 96 Well Plate 360 µL Flat on 1,\n",
       "  B2 of Corning 96 Well Plate 360 µL Flat on 1,\n",
       "  C2 of Corning 96 Well Plate 360 µL Flat on 1,\n",
       "  D2 of Corning 96 Well Plate 360 µL Flat on 1,\n",
       "  E2 of Corning 96 Well Plate 360 µL Flat on 1,\n",
       "  F2 of Corning 96 Well Plate 360 µL Flat on 1,\n",
       "  G2 of Corning 96 Well Plate 360 µL Flat on 1,\n",
       "  H2 of Corning 96 Well Plate 360 µL Flat on 1],\n",
       " '3': [A3 of Corning 96 Well Plate 360 µL Flat on 1,\n",
       "  B3 of Corning 96 Well Plate 360 µL Flat on 1,\n",
       "  C3 of Corning 96 Well Plate 360 µL Flat on 1,\n",
       "  D3 of Corning 96 Well Plate 360 µL Flat on 1,\n",
       "  E3 of Corning 96 Well Plate 360 µL Flat on 1,\n",
       "  F3 of Corning 96 Well Plate 360 µL Flat on 1,\n",
       "  G3 of Corning 96 Well Plate 360 µL Flat on 1,\n",
       "  H3 of Corning 96 Well Plate 360 µL Flat on 1],\n",
       " '4': [A4 of Corning 96 Well Plate 360 µL Flat on 1,\n",
       "  B4 of Corning 96 Well Plate 360 µL Flat on 1,\n",
       "  C4 of Corning 96 Well Plate 360 µL Flat on 1,\n",
       "  D4 of Corning 96 Well Plate 360 µL Flat on 1,\n",
       "  E4 of Corning 96 Well Plate 360 µL Flat on 1,\n",
       "  F4 of Corning 96 Well Plate 360 µL Flat on 1,\n",
       "  G4 of Corning 96 Well Plate 360 µL Flat on 1,\n",
       "  H4 of Corning 96 Well Plate 360 µL Flat on 1],\n",
       " '5': [A5 of Corning 96 Well Plate 360 µL Flat on 1,\n",
       "  B5 of Corning 96 Well Plate 360 µL Flat on 1,\n",
       "  C5 of Corning 96 Well Plate 360 µL Flat on 1,\n",
       "  D5 of Corning 96 Well Plate 360 µL Flat on 1,\n",
       "  E5 of Corning 96 Well Plate 360 µL Flat on 1,\n",
       "  F5 of Corning 96 Well Plate 360 µL Flat on 1,\n",
       "  G5 of Corning 96 Well Plate 360 µL Flat on 1,\n",
       "  H5 of Corning 96 Well Plate 360 µL Flat on 1],\n",
       " '6': [A6 of Corning 96 Well Plate 360 µL Flat on 1,\n",
       "  B6 of Corning 96 Well Plate 360 µL Flat on 1,\n",
       "  C6 of Corning 96 Well Plate 360 µL Flat on 1,\n",
       "  D6 of Corning 96 Well Plate 360 µL Flat on 1,\n",
       "  E6 of Corning 96 Well Plate 360 µL Flat on 1,\n",
       "  F6 of Corning 96 Well Plate 360 µL Flat on 1,\n",
       "  G6 of Corning 96 Well Plate 360 µL Flat on 1,\n",
       "  H6 of Corning 96 Well Plate 360 µL Flat on 1],\n",
       " '7': [A7 of Corning 96 Well Plate 360 µL Flat on 1,\n",
       "  B7 of Corning 96 Well Plate 360 µL Flat on 1,\n",
       "  C7 of Corning 96 Well Plate 360 µL Flat on 1,\n",
       "  D7 of Corning 96 Well Plate 360 µL Flat on 1,\n",
       "  E7 of Corning 96 Well Plate 360 µL Flat on 1,\n",
       "  F7 of Corning 96 Well Plate 360 µL Flat on 1,\n",
       "  G7 of Corning 96 Well Plate 360 µL Flat on 1,\n",
       "  H7 of Corning 96 Well Plate 360 µL Flat on 1],\n",
       " '8': [A8 of Corning 96 Well Plate 360 µL Flat on 1,\n",
       "  B8 of Corning 96 Well Plate 360 µL Flat on 1,\n",
       "  C8 of Corning 96 Well Plate 360 µL Flat on 1,\n",
       "  D8 of Corning 96 Well Plate 360 µL Flat on 1,\n",
       "  E8 of Corning 96 Well Plate 360 µL Flat on 1,\n",
       "  F8 of Corning 96 Well Plate 360 µL Flat on 1,\n",
       "  G8 of Corning 96 Well Plate 360 µL Flat on 1,\n",
       "  H8 of Corning 96 Well Plate 360 µL Flat on 1],\n",
       " '9': [A9 of Corning 96 Well Plate 360 µL Flat on 1,\n",
       "  B9 of Corning 96 Well Plate 360 µL Flat on 1,\n",
       "  C9 of Corning 96 Well Plate 360 µL Flat on 1,\n",
       "  D9 of Corning 96 Well Plate 360 µL Flat on 1,\n",
       "  E9 of Corning 96 Well Plate 360 µL Flat on 1,\n",
       "  F9 of Corning 96 Well Plate 360 µL Flat on 1,\n",
       "  G9 of Corning 96 Well Plate 360 µL Flat on 1,\n",
       "  H9 of Corning 96 Well Plate 360 µL Flat on 1],\n",
       " '10': [A10 of Corning 96 Well Plate 360 µL Flat on 1,\n",
       "  B10 of Corning 96 Well Plate 360 µL Flat on 1,\n",
       "  C10 of Corning 96 Well Plate 360 µL Flat on 1,\n",
       "  D10 of Corning 96 Well Plate 360 µL Flat on 1,\n",
       "  E10 of Corning 96 Well Plate 360 µL Flat on 1,\n",
       "  F10 of Corning 96 Well Plate 360 µL Flat on 1,\n",
       "  G10 of Corning 96 Well Plate 360 µL Flat on 1,\n",
       "  H10 of Corning 96 Well Plate 360 µL Flat on 1],\n",
       " '11': [A11 of Corning 96 Well Plate 360 µL Flat on 1,\n",
       "  B11 of Corning 96 Well Plate 360 µL Flat on 1,\n",
       "  C11 of Corning 96 Well Plate 360 µL Flat on 1,\n",
       "  D11 of Corning 96 Well Plate 360 µL Flat on 1,\n",
       "  E11 of Corning 96 Well Plate 360 µL Flat on 1,\n",
       "  F11 of Corning 96 Well Plate 360 µL Flat on 1,\n",
       "  G11 of Corning 96 Well Plate 360 µL Flat on 1,\n",
       "  H11 of Corning 96 Well Plate 360 µL Flat on 1],\n",
       " '12': [A12 of Corning 96 Well Plate 360 µL Flat on 1,\n",
       "  B12 of Corning 96 Well Plate 360 µL Flat on 1,\n",
       "  C12 of Corning 96 Well Plate 360 µL Flat on 1,\n",
       "  D12 of Corning 96 Well Plate 360 µL Flat on 1,\n",
       "  E12 of Corning 96 Well Plate 360 µL Flat on 1,\n",
       "  F12 of Corning 96 Well Plate 360 µL Flat on 1,\n",
       "  G12 of Corning 96 Well Plate 360 µL Flat on 1,\n",
       "  H12 of Corning 96 Well Plate 360 µL Flat on 1]}"
      ]
     },
     "execution_count": 12,
     "metadata": {},
     "output_type": "execute_result"
    }
   ],
   "source": [
    "plate.columns_by_name()"
   ]
  },
  {
   "cell_type": "code",
   "execution_count": 13,
   "metadata": {},
   "outputs": [
    {
     "data": {
      "text/plain": [
       "APIVersion(major=2, minor=9)"
      ]
     },
     "execution_count": 13,
     "metadata": {},
     "output_type": "execute_result"
    }
   ],
   "source": [
    "plate.api_version"
   ]
  },
  {
   "cell_type": "code",
   "execution_count": 16,
   "metadata": {},
   "outputs": [
    {
     "data": {
      "text/plain": [
       "{'A1': A1 of Corning 96 Well Plate 360 µL Flat on 1,\n",
       " 'B1': B1 of Corning 96 Well Plate 360 µL Flat on 1,\n",
       " 'C1': C1 of Corning 96 Well Plate 360 µL Flat on 1,\n",
       " 'D1': D1 of Corning 96 Well Plate 360 µL Flat on 1,\n",
       " 'E1': E1 of Corning 96 Well Plate 360 µL Flat on 1,\n",
       " 'F1': F1 of Corning 96 Well Plate 360 µL Flat on 1,\n",
       " 'G1': G1 of Corning 96 Well Plate 360 µL Flat on 1,\n",
       " 'H1': H1 of Corning 96 Well Plate 360 µL Flat on 1,\n",
       " 'A2': A2 of Corning 96 Well Plate 360 µL Flat on 1,\n",
       " 'B2': B2 of Corning 96 Well Plate 360 µL Flat on 1,\n",
       " 'C2': C2 of Corning 96 Well Plate 360 µL Flat on 1,\n",
       " 'D2': D2 of Corning 96 Well Plate 360 µL Flat on 1,\n",
       " 'E2': E2 of Corning 96 Well Plate 360 µL Flat on 1,\n",
       " 'F2': F2 of Corning 96 Well Plate 360 µL Flat on 1,\n",
       " 'G2': G2 of Corning 96 Well Plate 360 µL Flat on 1,\n",
       " 'H2': H2 of Corning 96 Well Plate 360 µL Flat on 1,\n",
       " 'A3': A3 of Corning 96 Well Plate 360 µL Flat on 1,\n",
       " 'B3': B3 of Corning 96 Well Plate 360 µL Flat on 1,\n",
       " 'C3': C3 of Corning 96 Well Plate 360 µL Flat on 1,\n",
       " 'D3': D3 of Corning 96 Well Plate 360 µL Flat on 1,\n",
       " 'E3': E3 of Corning 96 Well Plate 360 µL Flat on 1,\n",
       " 'F3': F3 of Corning 96 Well Plate 360 µL Flat on 1,\n",
       " 'G3': G3 of Corning 96 Well Plate 360 µL Flat on 1,\n",
       " 'H3': H3 of Corning 96 Well Plate 360 µL Flat on 1,\n",
       " 'A4': A4 of Corning 96 Well Plate 360 µL Flat on 1,\n",
       " 'B4': B4 of Corning 96 Well Plate 360 µL Flat on 1,\n",
       " 'C4': C4 of Corning 96 Well Plate 360 µL Flat on 1,\n",
       " 'D4': D4 of Corning 96 Well Plate 360 µL Flat on 1,\n",
       " 'E4': E4 of Corning 96 Well Plate 360 µL Flat on 1,\n",
       " 'F4': F4 of Corning 96 Well Plate 360 µL Flat on 1,\n",
       " 'G4': G4 of Corning 96 Well Plate 360 µL Flat on 1,\n",
       " 'H4': H4 of Corning 96 Well Plate 360 µL Flat on 1,\n",
       " 'A5': A5 of Corning 96 Well Plate 360 µL Flat on 1,\n",
       " 'B5': B5 of Corning 96 Well Plate 360 µL Flat on 1,\n",
       " 'C5': C5 of Corning 96 Well Plate 360 µL Flat on 1,\n",
       " 'D5': D5 of Corning 96 Well Plate 360 µL Flat on 1,\n",
       " 'E5': E5 of Corning 96 Well Plate 360 µL Flat on 1,\n",
       " 'F5': F5 of Corning 96 Well Plate 360 µL Flat on 1,\n",
       " 'G5': G5 of Corning 96 Well Plate 360 µL Flat on 1,\n",
       " 'H5': H5 of Corning 96 Well Plate 360 µL Flat on 1,\n",
       " 'A6': A6 of Corning 96 Well Plate 360 µL Flat on 1,\n",
       " 'B6': B6 of Corning 96 Well Plate 360 µL Flat on 1,\n",
       " 'C6': C6 of Corning 96 Well Plate 360 µL Flat on 1,\n",
       " 'D6': D6 of Corning 96 Well Plate 360 µL Flat on 1,\n",
       " 'E6': E6 of Corning 96 Well Plate 360 µL Flat on 1,\n",
       " 'F6': F6 of Corning 96 Well Plate 360 µL Flat on 1,\n",
       " 'G6': G6 of Corning 96 Well Plate 360 µL Flat on 1,\n",
       " 'H6': H6 of Corning 96 Well Plate 360 µL Flat on 1,\n",
       " 'A7': A7 of Corning 96 Well Plate 360 µL Flat on 1,\n",
       " 'B7': B7 of Corning 96 Well Plate 360 µL Flat on 1,\n",
       " 'C7': C7 of Corning 96 Well Plate 360 µL Flat on 1,\n",
       " 'D7': D7 of Corning 96 Well Plate 360 µL Flat on 1,\n",
       " 'E7': E7 of Corning 96 Well Plate 360 µL Flat on 1,\n",
       " 'F7': F7 of Corning 96 Well Plate 360 µL Flat on 1,\n",
       " 'G7': G7 of Corning 96 Well Plate 360 µL Flat on 1,\n",
       " 'H7': H7 of Corning 96 Well Plate 360 µL Flat on 1,\n",
       " 'A8': A8 of Corning 96 Well Plate 360 µL Flat on 1,\n",
       " 'B8': B8 of Corning 96 Well Plate 360 µL Flat on 1,\n",
       " 'C8': C8 of Corning 96 Well Plate 360 µL Flat on 1,\n",
       " 'D8': D8 of Corning 96 Well Plate 360 µL Flat on 1,\n",
       " 'E8': E8 of Corning 96 Well Plate 360 µL Flat on 1,\n",
       " 'F8': F8 of Corning 96 Well Plate 360 µL Flat on 1,\n",
       " 'G8': G8 of Corning 96 Well Plate 360 µL Flat on 1,\n",
       " 'H8': H8 of Corning 96 Well Plate 360 µL Flat on 1,\n",
       " 'A9': A9 of Corning 96 Well Plate 360 µL Flat on 1,\n",
       " 'B9': B9 of Corning 96 Well Plate 360 µL Flat on 1,\n",
       " 'C9': C9 of Corning 96 Well Plate 360 µL Flat on 1,\n",
       " 'D9': D9 of Corning 96 Well Plate 360 µL Flat on 1,\n",
       " 'E9': E9 of Corning 96 Well Plate 360 µL Flat on 1,\n",
       " 'F9': F9 of Corning 96 Well Plate 360 µL Flat on 1,\n",
       " 'G9': G9 of Corning 96 Well Plate 360 µL Flat on 1,\n",
       " 'H9': H9 of Corning 96 Well Plate 360 µL Flat on 1,\n",
       " 'A10': A10 of Corning 96 Well Plate 360 µL Flat on 1,\n",
       " 'B10': B10 of Corning 96 Well Plate 360 µL Flat on 1,\n",
       " 'C10': C10 of Corning 96 Well Plate 360 µL Flat on 1,\n",
       " 'D10': D10 of Corning 96 Well Plate 360 µL Flat on 1,\n",
       " 'E10': E10 of Corning 96 Well Plate 360 µL Flat on 1,\n",
       " 'F10': F10 of Corning 96 Well Plate 360 µL Flat on 1,\n",
       " 'G10': G10 of Corning 96 Well Plate 360 µL Flat on 1,\n",
       " 'H10': H10 of Corning 96 Well Plate 360 µL Flat on 1,\n",
       " 'A11': A11 of Corning 96 Well Plate 360 µL Flat on 1,\n",
       " 'B11': B11 of Corning 96 Well Plate 360 µL Flat on 1,\n",
       " 'C11': C11 of Corning 96 Well Plate 360 µL Flat on 1,\n",
       " 'D11': D11 of Corning 96 Well Plate 360 µL Flat on 1,\n",
       " 'E11': E11 of Corning 96 Well Plate 360 µL Flat on 1,\n",
       " 'F11': F11 of Corning 96 Well Plate 360 µL Flat on 1,\n",
       " 'G11': G11 of Corning 96 Well Plate 360 µL Flat on 1,\n",
       " 'H11': H11 of Corning 96 Well Plate 360 µL Flat on 1,\n",
       " 'A12': A12 of Corning 96 Well Plate 360 µL Flat on 1,\n",
       " 'B12': B12 of Corning 96 Well Plate 360 µL Flat on 1,\n",
       " 'C12': C12 of Corning 96 Well Plate 360 µL Flat on 1,\n",
       " 'D12': D12 of Corning 96 Well Plate 360 µL Flat on 1,\n",
       " 'E12': E12 of Corning 96 Well Plate 360 µL Flat on 1,\n",
       " 'F12': F12 of Corning 96 Well Plate 360 µL Flat on 1,\n",
       " 'G12': G12 of Corning 96 Well Plate 360 µL Flat on 1,\n",
       " 'H12': H12 of Corning 96 Well Plate 360 µL Flat on 1}"
      ]
     },
     "execution_count": 16,
     "metadata": {},
     "output_type": "execute_result"
    }
   ],
   "source": [
    "plate.wells_by_name()"
   ]
  },
  {
   "cell_type": "code",
   "execution_count": 20,
   "metadata": {},
   "outputs": [
    {
     "data": {
      "text/plain": [
       "[C1 of Corning 96 Well Plate 360 µL Flat on 1]"
      ]
     },
     "execution_count": 20,
     "metadata": {},
     "output_type": "execute_result"
    }
   ],
   "source": [
    "plate.wells(2)"
   ]
  },
  {
   "cell_type": "code",
   "execution_count": 21,
   "metadata": {},
   "outputs": [
    {
     "data": {
      "text/plain": [
       "[D1 of Corning 96 Well Plate 360 µL Flat on 1]"
      ]
     },
     "execution_count": 21,
     "metadata": {},
     "output_type": "execute_result"
    }
   ],
   "source": [
    "plate.wells(3)"
   ]
  },
  {
   "cell_type": "code",
   "execution_count": 22,
   "metadata": {},
   "outputs": [
    {
     "data": {
      "text/plain": [
       "[A1 of Corning 96 Well Plate 360 µL Flat on 1]"
      ]
     },
     "execution_count": 22,
     "metadata": {},
     "output_type": "execute_result"
    }
   ],
   "source": [
    "plate.wells(0)"
   ]
  },
  {
   "cell_type": "markdown",
   "metadata": {},
   "source": [
    "# Traiter une séquence de puits"
   ]
  },
  {
   "cell_type": "code",
   "execution_count": 45,
   "metadata": {},
   "outputs": [
    {
     "name": "stdout",
     "output_type": "stream",
     "text": [
      "[A1 of Corning 96 Well Plate 360 µL Flat on 1]\n",
      "[B1 of Corning 96 Well Plate 360 µL Flat on 1]\n",
      "[C1 of Corning 96 Well Plate 360 µL Flat on 1]\n",
      "[D1 of Corning 96 Well Plate 360 µL Flat on 1]\n"
     ]
    }
   ],
   "source": [
    "for i in range(4):\n",
    "    print(plate.wells(i))"
   ]
  },
  {
   "cell_type": "markdown",
   "metadata": {},
   "source": [
    "## Je veux traiter des puits dans l'ordre de bas en haut puis de gauche à droite"
   ]
  },
  {
   "cell_type": "code",
   "execution_count": 34,
   "metadata": {},
   "outputs": [
    {
     "data": {
      "text/plain": [
       "[7, 6, 5, 4, 3, 2, 1, 0, 15, 14, 13, 12, 11, 10, 9, 8]"
      ]
     },
     "execution_count": 34,
     "metadata": {},
     "output_type": "execute_result"
    }
   ],
   "source": [
    "[ i for N in [7,15] for  i in range(N, N-8,-1) ]"
   ]
  },
  {
   "cell_type": "code",
   "execution_count": 36,
   "metadata": {},
   "outputs": [
    {
     "data": {
      "text/plain": [
       "[7, 15, 23, 31, 39, 47, 55, 63, 71, 79, 87]"
      ]
     },
     "execution_count": 36,
     "metadata": {},
     "output_type": "execute_result"
    }
   ],
   "source": [
    "[(i*8)-1 for i in range(1, 12)]"
   ]
  },
  {
   "cell_type": "code",
   "execution_count": 50,
   "metadata": {},
   "outputs": [],
   "source": [
    "# generate the order of wells walking bottom to top then left to right\n",
    "\n",
    "def generate_wells_order(rows, cols): \n",
    "    \"\"\"\n",
    "    rows : number of rows\n",
    "    cols : number of cols\n",
    "    >>> generate_wells_order(3, 4)\n",
    "    [2, 1, 0, 5, 4, 3, 8, 7, 6, 11, 10, 9]\n",
    "    \"\"\"\n",
    "    \n",
    "    bottom_wells_list = [(i*rows)-1 for i in range(1, cols+1)]\n",
    "    liste =  [ i for N in bottom_wells_list for  i in range(N, N-rows,-1) ]\n",
    "    return liste\n"
   ]
  },
  {
   "cell_type": "code",
   "execution_count": 55,
   "metadata": {},
   "outputs": [
    {
     "name": "stdout",
     "output_type": "stream",
     "text": [
      "H1 of Corning 96 Well Plate 360 µL Flat on 1\n",
      "G1 of Corning 96 Well Plate 360 µL Flat on 1\n",
      "F1 of Corning 96 Well Plate 360 µL Flat on 1\n",
      "E1 of Corning 96 Well Plate 360 µL Flat on 1\n",
      "D1 of Corning 96 Well Plate 360 µL Flat on 1\n",
      "C1 of Corning 96 Well Plate 360 µL Flat on 1\n",
      "B1 of Corning 96 Well Plate 360 µL Flat on 1\n",
      "A1 of Corning 96 Well Plate 360 µL Flat on 1\n",
      "H2 of Corning 96 Well Plate 360 µL Flat on 1\n",
      "G2 of Corning 96 Well Plate 360 µL Flat on 1\n",
      "F2 of Corning 96 Well Plate 360 µL Flat on 1\n",
      "E2 of Corning 96 Well Plate 360 µL Flat on 1\n",
      "D2 of Corning 96 Well Plate 360 µL Flat on 1\n",
      "C2 of Corning 96 Well Plate 360 µL Flat on 1\n",
      "B2 of Corning 96 Well Plate 360 µL Flat on 1\n",
      "A2 of Corning 96 Well Plate 360 µL Flat on 1\n"
     ]
    }
   ],
   "source": [
    "# Example of use. Walk in the two first columns\n",
    "for i in generate_wells_order(8, 12)[:16]:\n",
    "    print (plate.wells()[i])"
   ]
  },
  {
   "cell_type": "code",
   "execution_count": 69,
   "metadata": {},
   "outputs": [],
   "source": [
    "# Repartition of samples of several racks\n",
    "# Case of 4  4x6 racks\n",
    "#  disposition of racks : \n",
    "    # rack 1  | rack 2\n",
    "    # rack 3  | rack 4\n",
    "def generate_in_poly_rack(racks, nb):\n",
    "    # racks : list of list of plate\n",
    "    # racks = [[rack1, rack2],[rack3n rack4]]\n",
    "    \n",
    "    pass\n",
    "            sssssss"
   ]
  },
  {
   "cell_type": "code",
   "execution_count": null,
   "metadata": {},
   "outputs": [],
   "source": []
  },
  {
   "cell_type": "code",
   "execution_count": null,
   "metadata": {},
   "outputs": [],
   "source": []
  },
  {
   "cell_type": "code",
   "execution_count": null,
   "metadata": {},
   "outputs": [],
   "source": []
  },
  {
   "cell_type": "code",
   "execution_count": null,
   "metadata": {},
   "outputs": [],
   "source": []
  },
  {
   "cell_type": "markdown",
   "metadata": {},
   "source": [
    "# Doctests"
   ]
  },
  {
   "cell_type": "code",
   "execution_count": 47,
   "metadata": {},
   "outputs": [],
   "source": [
    "import doctest"
   ]
  },
  {
   "cell_type": "code",
   "execution_count": 49,
   "metadata": {},
   "outputs": [
    {
     "name": "stdout",
     "output_type": "stream",
     "text": [
      "Trying:\n",
      "    generate_wells_order(3, 4)\n",
      "Expecting:\n",
      "    [2, 1, 0, 5, 4, 3, 8, 7, 6, 11, 10, 9]\n",
      "ok\n",
      "1 items had no tests:\n",
      "    __main__\n",
      "1 items passed all tests:\n",
      "   1 tests in __main__.generate_wells_order\n",
      "1 tests in 2 items.\n",
      "1 passed and 0 failed.\n",
      "Test passed.\n"
     ]
    },
    {
     "data": {
      "text/plain": [
       "TestResults(failed=0, attempted=1)"
      ]
     },
     "execution_count": 49,
     "metadata": {},
     "output_type": "execute_result"
    }
   ],
   "source": [
    "doctest.testmod(verbose = True)"
   ]
  },
  {
   "cell_type": "code",
   "execution_count": null,
   "metadata": {},
   "outputs": [],
   "source": []
  }
 ],
 "metadata": {
  "kernelspec": {
   "display_name": "Python 3",
   "language": "python",
   "name": "python3"
  },
  "language_info": {
   "codemirror_mode": {
    "name": "ipython",
    "version": 3
   },
   "file_extension": ".py",
   "mimetype": "text/x-python",
   "name": "python",
   "nbconvert_exporter": "python",
   "pygments_lexer": "ipython3",
   "version": "3.7.1"
  }
 },
 "nbformat": 4,
 "nbformat_minor": 2
}
