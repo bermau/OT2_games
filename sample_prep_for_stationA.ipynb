{
 "cells": [
  {
   "cell_type": "markdown",
   "metadata": {},
   "source": [
    "# Sample prep from covid19clinic"
   ]
  },
  {
   "cell_type": "code",
   "execution_count": null,
   "metadata": {},
   "outputs": [],
   "source": []
  },
  {
   "cell_type": "code",
   "execution_count": 1,
   "metadata": {},
   "outputs": [],
   "source": [
    "import math\n",
    "import opentrons\n",
    "from opentrons.types import Point\n",
    "from opentrons import protocol_api\n",
    "import time\n",
    "import os\n",
    "from timeit import default_timer as timer\n",
    "import json\n",
    "from datetime import datetime\n",
    "import csv\n",
    "import json"
   ]
  },
  {
   "cell_type": "markdown",
   "metadata": {},
   "source": [
    "# To use Jupyter-notebook, we add theses lines "
   ]
  },
  {
   "cell_type": "code",
   "execution_count": 61,
   "metadata": {},
   "outputs": [],
   "source": [
    "import opentrons.execute\n",
    "from opentrons import protocol_api\n",
    "\n",
    "ctx = opentrons.execute.get_protocol_api('2.9')"
   ]
  },
  {
   "cell_type": "code",
   "execution_count": 114,
   "metadata": {},
   "outputs": [],
   "source": [
    "ctx.home()"
   ]
  },
  {
   "cell_type": "code",
   "execution_count": 62,
   "metadata": {},
   "outputs": [
    {
     "data": {
      "text/plain": [
       "\"\\n'technician': '$technician',\\n'date': '$date'\\n\""
      ]
     },
     "execution_count": 62,
     "metadata": {},
     "output_type": "execute_result"
    }
   ],
   "source": [
    "# metadata\n",
    "metadata = {\n",
    "    'protocolName': 'S2 Station A Kingfisher Version 2',\n",
    "    'author': 'Eva González & José Luis Villanueva (jlvillanueva@clinic.cat)',\n",
    "    'source': 'Hospital Clínic Barcelona',\n",
    "    'apiLevel': '2.9',  # Original 2.0\n",
    "    'description': 'Protocol for Kingfisher sample setup (A) - Viral/Pathogen II Kit (ref A48383)'\n",
    "}\n",
    "\n",
    "\n",
    "'''\n",
    "'technician': '$technician',\n",
    "'date': '$date'\n",
    "'''"
   ]
  },
  {
   "cell_type": "markdown",
   "metadata": {},
   "source": [
    "## Importing custom labware in Jupyter notebook"
   ]
  },
  {
   "cell_type": "code",
   "execution_count": 63,
   "metadata": {},
   "outputs": [],
   "source": [
    "with open('cherdeepwellkingfisher_96_wellplate_2000ul.json') as my_dw_P96_file:\n",
    "    ref_to_my_dw_P96_file = json.load(my_dw_P96_file)"
   ]
  },
  {
   "cell_type": "code",
   "execution_count": 64,
   "metadata": {},
   "outputs": [],
   "source": [
    "#Defined variables\n",
    "##################\n",
    "NUM_SAMPLES = 80\n",
    "five_ml_rack = False\n",
    "\n",
    "air_gap_vol = 50  # 15 \n",
    "\n",
    "volume_sample = 200    # 400\n",
    "x_offset = [0, 0] \n",
    "\n",
    "# Screwcap variables\n",
    "diameter_screwcap = 8.25  # Diameter of the screwcap\n",
    "volume_cone = 50  # Volume in ul that fit in the screwcap cone\n",
    "\n",
    "# Calculated variables\n",
    "area_section_screwcap = (math.pi * diameter_screwcap**2) / 4\n",
    "h_cone = (volume_cone * 3 / area_section_screwcap)\n",
    "screwcap_cross_section_area = math.pi * diameter_screwcap**2 / 4  # screwcap cross section area"
   ]
  },
  {
   "cell_type": "code",
   "execution_count": null,
   "metadata": {},
   "outputs": [],
   "source": []
  },
  {
   "cell_type": "code",
   "execution_count": null,
   "metadata": {},
   "outputs": [],
   "source": []
  },
  {
   "cell_type": "code",
   "execution_count": 65,
   "metadata": {},
   "outputs": [],
   "source": [
    "# Define the STEPS of the protocol\n",
    "STEP = 0\n",
    "STEPS = {  # Dictionary with STEP activation, description, and times\n",
    "    1: {'Execute': True, 'description': 'Add samples (400ul)'},\n",
    "}\n",
    "for s in STEPS:  # Create an empty wait_time\n",
    "    if 'wait_time' not in STEPS[s]:\n",
    "        STEPS[s]['wait_time'] = 0   "
   ]
  },
  {
   "cell_type": "code",
   "execution_count": 66,
   "metadata": {},
   "outputs": [
    {
     "data": {
      "text/plain": [
       "{1: {'Execute': True, 'description': 'Add samples (400ul)', 'wait_time': 0}}"
      ]
     },
     "execution_count": 66,
     "metadata": {},
     "output_type": "execute_result"
    }
   ],
   "source": [
    "STEPS"
   ]
  },
  {
   "cell_type": "code",
   "execution_count": 67,
   "metadata": {},
   "outputs": [
    {
     "name": "stdout",
     "output_type": "stream",
     "text": [
      "ctx is not simulating\n"
     ]
    }
   ],
   "source": [
    "if not ctx.is_simulating():\n",
    "    print(\"ctx is not simulating\")\n",
    "    # Folder and file_path for log time\n",
    "    folder_path = '/var/lib/jupyter/notebooks'\n",
    "    if not os.path.isdir(folder_path):\n",
    "        os.mkdir(folder_path)\n",
    "    #file_path = folder_path + '/KA_SampleSetup_pathogen_time_log.txt' \n",
    "    file_path = folder_path + '/KA_SampleSetup_viral_path2_time_log.txt'"
   ]
  },
  {
   "cell_type": "code",
   "execution_count": null,
   "metadata": {},
   "outputs": [],
   "source": [
    "\n"
   ]
  },
  {
   "cell_type": "code",
   "execution_count": 68,
   "metadata": {},
   "outputs": [],
   "source": [
    "# Define Reagents as objects with their properties\n",
    "class Reagent():\n",
    "    def __init__(self,  name, flow_rate_aspirate, flow_rate_dispense, rinse, reagent_reservoir_volume, \n",
    "                 delay, num_wells, h_cono, v_fondo, tip_recycling = 'none' ):\n",
    "        self.name = name\n",
    "        self.flow_rate_aspirate = flow_rate_aspirate\n",
    "        self.flow_rate_dispense = flow_rate_dispense\n",
    "        self.rinse = bool(rinse)\n",
    "        self.reagent_reservoir_volume = reagent_reservoir_volume\n",
    "        self.delay = delay\n",
    "        self.num_wells = num_wells\n",
    "        self.col = 0\n",
    "        self.vol_well = 0\n",
    "        self.h_cono = h_cono\n",
    "        self.v_cono = v_fondo\n",
    "        self.unused=[]\n",
    "        self.tip_recycling = tip_recycling\n",
    "        self.vol_well_original = reagent_reservoir_volume / num_wells"
   ]
  },
  {
   "cell_type": "code",
   "execution_count": null,
   "metadata": {},
   "outputs": [],
   "source": []
  },
  {
   "cell_type": "code",
   "execution_count": null,
   "metadata": {},
   "outputs": [],
   "source": []
  },
  {
   "cell_type": "code",
   "execution_count": null,
   "metadata": {},
   "outputs": [],
   "source": []
  },
  {
   "cell_type": "code",
   "execution_count": 69,
   "metadata": {},
   "outputs": [],
   "source": [
    "samples = Reagent(name = 'Samples',\n",
    "                  flow_rate_aspirate = 1,\n",
    "                  flow_rate_dispense = 1,\n",
    "                  rinse = False,\n",
    "                  delay = 0,\n",
    "                  reagent_reservoir_volume = 700 * 24,\n",
    "                  num_wells = 24,  # num_cols comes from available columns\n",
    "                  h_cono = 4,\n",
    "                  v_fondo = 4 * math.pi * 4**3 / 3\n",
    "                  )  # Sphere\n",
    "\n",
    "samples.vol_well = 700"
   ]
  },
  {
   "cell_type": "code",
   "execution_count": null,
   "metadata": {},
   "outputs": [],
   "source": []
  },
  {
   "cell_type": "code",
   "execution_count": 70,
   "metadata": {},
   "outputs": [],
   "source": [
    "##################\n",
    "# Custom functions\n",
    "def generate_source_table(source):\n",
    "    '''\n",
    "    Concatenate the wells from the different origin racks\n",
    "    '''\n",
    "    for rack_number in range(len(source)):\n",
    "        if rack_number == 0:\n",
    "            s = source[rack_number].wells()\n",
    "        else:\n",
    "            s = s + source[rack_number].wells()\n",
    "    return s"
   ]
  },
  {
   "cell_type": "code",
   "execution_count": 71,
   "metadata": {},
   "outputs": [],
   "source": [
    "def move_vol_multichannel(pipet, reagent, source, dest, vol, air_gap_vol, x_offset,\n",
    "                   pickup_height, rinse, disp_height, blow_out, touch_tip):\n",
    "    '''\n",
    "    x_offset: list with two values. x_offset in source and x_offset in destination i.e. [-1,1]\n",
    "    pickup_height: height from bottom where volume\n",
    "    rinse: if True it will do 2 rounds of aspirate and dispense before the tranfer\n",
    "    disp_height: dispense height; by default it's close to the top (z=-2), but in case it is needed it can be lowered\n",
    "    blow_out, touch_tip: if True they will be done after dispensing\n",
    "    '''\n",
    "    # Rinse before aspirating\n",
    "    if rinse == True:\n",
    "        custom_mix(pipet, reagent, location = source, vol = vol,\n",
    "                   rounds = 2, blow_out = True, mix_height = 0,\n",
    "                   x_offset = x_offset)\n",
    "    # SOURCE\n",
    "    s = source.bottom(pickup_height).move(Point(x = x_offset[0]))\n",
    "    pipet.aspirate(vol, s, rate = reagent.flow_rate_aspirate)  # aspirate liquid\n",
    "    if air_gap_vol != 0:  # If there is air_gap_vol, switch pipette to slow speed\n",
    "        pipet.aspirate(air_gap_vol, source.top(z = -2),\n",
    "                       rate = reagent.flow_rate_aspirate)  # air gap\n",
    "    # GO TO DESTINATION\n",
    "    drop = dest.top(z = disp_height).move(Point(x = x_offset[1]))\n",
    "    pipet.dispense(vol + air_gap_vol, drop,\n",
    "                   rate = reagent.flow_rate_dispense)  # dispense all\n",
    "    ctx.delay(seconds = reagent.delay) # pause for x seconds depending on reagent\n",
    "    if blow_out == True:\n",
    "        pipet.blow_out(dest.top(z = -5))\n",
    "    if touch_tip == True:\n",
    "        pipet.touch_tip(radius = 0.9, speed = 20, v_offset = -5)"
   ]
  },
  {
   "cell_type": "code",
   "execution_count": null,
   "metadata": {},
   "outputs": [],
   "source": []
  },
  {
   "cell_type": "code",
   "execution_count": 72,
   "metadata": {},
   "outputs": [],
   "source": [
    "def custom_mix(pipet, reagent, location, vol, rounds, blow_out, mix_height,\n",
    "x_offset, source_height = 3):\n",
    "    '''\n",
    "    Function for mixing a given [vol] in the same [location] a x number of [rounds].\n",
    "    blow_out: Blow out optional [True,False]\n",
    "    x_offset = [source, destination]\n",
    "    source_height: height from bottom to aspirate\n",
    "    mix_height: height from bottom to dispense\n",
    "    '''\n",
    "    if mix_height == 0:\n",
    "        mix_height = 3\n",
    "    pipet.aspirate(1, location=location.bottom(\n",
    "        z=source_height).move(Point(x=x_offset[0])), rate=reagent.flow_rate_aspirate)\n",
    "    for _ in range(rounds):\n",
    "        pipet.aspirate(vol, location=location.bottom(\n",
    "            z=source_height).move(Point(x=x_offset[0])), rate=reagent.flow_rate_aspirate)\n",
    "        pipet.dispense(vol, location=location.bottom(\n",
    "            z=mix_height).move(Point(x=x_offset[1])), rate=reagent.flow_rate_dispense)\n",
    "    pipet.dispense(1, location=location.bottom(\n",
    "        z=mix_height).move(Point(x=x_offset[1])), rate=reagent.flow_rate_dispense)\n",
    "    if blow_out == True:\n",
    "        pipet.blow_out(location.top(z=-2))  # Blow out"
   ]
  },
  {
   "cell_type": "code",
   "execution_count": 73,
   "metadata": {},
   "outputs": [],
   "source": [
    "def calc_height(reagent, cross_section_area, aspirate_volume, min_height = 0.5):\n",
    "#     nonlocal ctx    # ????\n",
    "    ctx.comment('Remaining volume ' + str(reagent.vol_well) +\n",
    "                '< needed volume ' + str(aspirate_volume) + '?')\n",
    "    if reagent.vol_well < aspirate_volume:\n",
    "        reagent.unused.append(reagent.vol_well)\n",
    "        ctx.comment('Next column should be picked')\n",
    "        ctx.comment('Previous to change: ' + str(reagent.col))\n",
    "        # column selector position; intialize to required number\n",
    "        reagent.col = reagent.col + 1\n",
    "        ctx.comment(str('After change: ' + str(reagent.col)))\n",
    "        reagent.vol_well = reagent.vol_well_original\n",
    "        ctx.comment('New volume:' + str(reagent.vol_well))\n",
    "        height = (reagent.vol_well - aspirate_volume - reagent.v_cono) / cross_section_area\n",
    "                #- reagent.h_cono\n",
    "        reagent.vol_well = reagent.vol_well - aspirate_volume\n",
    "        ctx.comment('Remaining volume:' + str(reagent.vol_well))\n",
    "        if height < min_height:\n",
    "            height = min_height\n",
    "        col_change = True\n",
    "    else:\n",
    "        height = (reagent.vol_well - aspirate_volume - reagent.v_cono) / cross_section_area #- reagent.h_cono\n",
    "        reagent.vol_well = reagent.vol_well - aspirate_volume\n",
    "        ctx.comment('Calculated height is ' + str(height))\n",
    "        if height < min_height:\n",
    "            height = min_height\n",
    "        ctx.comment('Used height is ' + str(height))\n",
    "        col_change = False\n",
    "    return height, col_change"
   ]
  },
  {
   "cell_type": "code",
   "execution_count": 74,
   "metadata": {},
   "outputs": [],
   "source": [
    "##########\n",
    "# pick up tip and if there is none left, prompt user for a new rack\n",
    "def pick_up(pip):\n",
    "    #  nonlocal tip_track\n",
    "    if not ctx.is_simulating():\n",
    "        if tip_track['counts'][pip] == tip_track['maxes'][pip]:\n",
    "            ctx.pause('Replace ' + str(pip.max_volume) + 'µl tipracks before \\\n",
    "            resuming.')\n",
    "            pip.reset_tipracks()\n",
    "            tip_track['counts'][pip] = 0\n",
    "    pip.pick_up_tip()"
   ]
  },
  {
   "cell_type": "code",
   "execution_count": 75,
   "metadata": {},
   "outputs": [],
   "source": [
    "####################################\n",
    "# load labware and modules\n",
    "####################################\n",
    "\n",
    "# Load Sample racks\n",
    "if NUM_SAMPLES < 96:\n",
    "   rack_num = math.ceil(NUM_SAMPLES / 24)\n",
    "   ctx.comment('Used source racks are ' + str(rack_num))\n",
    "   samples_last_rack = NUM_SAMPLES - rack_num * 24\n",
    "else:\n",
    "   rack_num = 4"
   ]
  },
  {
   "cell_type": "code",
   "execution_count": 82,
   "metadata": {},
   "outputs": [],
   "source": [
    "ctx = opentrons.execute.get_protocol_api('2.9')"
   ]
  },
  {
   "cell_type": "code",
   "execution_count": 83,
   "metadata": {},
   "outputs": [],
   "source": [
    "if five_ml_rack == True:\n",
    "    rack = 'ngny_tuberack_24_5ml'\n",
    "else:\n",
    "    #  rack = 'opentrons_24_tuberack_generic_2ml_screwcap'\n",
    "    rack = 'opentrons_24_tuberack_eppendorf_1.5ml_safelock_snapcap'\n",
    "\n",
    "source_racks = [ctx.load_labware(rack, slot, 'source_tuberack_' + str(i + 1))\n",
    "                for i, slot in enumerate(['4', '1', '5', '2'][:rack_num])\n",
    "                ]"
   ]
  },
  {
   "cell_type": "code",
   "execution_count": 84,
   "metadata": {},
   "outputs": [],
   "source": [
    "rack_num = 4"
   ]
  },
  {
   "cell_type": "code",
   "execution_count": 85,
   "metadata": {},
   "outputs": [
    {
     "data": {
      "text/plain": [
       "[source_tuberack_1 on 4,\n",
       " source_tuberack_2 on 1,\n",
       " source_tuberack_3 on 5,\n",
       " source_tuberack_4 on 2]"
      ]
     },
     "execution_count": 85,
     "metadata": {},
     "output_type": "execute_result"
    }
   ],
   "source": [
    "source_racks"
   ]
  },
  {
   "cell_type": "code",
   "execution_count": 86,
   "metadata": {},
   "outputs": [],
   "source": [
    "##################################\n",
    "# Destination plate\n",
    "dest_plate = ctx.load_labware_from_definition(ref_to_my_dw_P96_file, 6, 'KF 96well destination plate')   # OK\n",
    "\n",
    "##################################\n",
    "# Load tip_racks\n",
    "tips1000 = [ctx.load_labware('opentrons_96_filtertiprack_1000ul', slot, '1000 µl filter tiprack')\n",
    "            for slot in ['7']]  # Replace by [7, 10, 11] forme example for other tipracks."
   ]
  },
  {
   "cell_type": "code",
   "execution_count": 112,
   "metadata": {},
   "outputs": [
    {
     "name": "stdout",
     "output_type": "stream",
     "text": [
      "| 10 :                                | 11 :                                | 12 : Trash                          | \n",
      "| 7 : 1000 µl filter tiprack          | 8 :                                 | 9 :                                 | \n",
      "| 4 : source_tuberack_1               | 5 : source_tuberack_3               | 6 : KF 96well destination plate     | \n",
      "| 1 : source_tuberack_2               | 2 : source_tuberack_4               | 3 :                                 | \n"
     ]
    }
   ],
   "source": [
    "def rack_printer():\n",
    "    \"\"\"Display the deck and its labware\"\"\"\n",
    "    for pos_range  in [[10, 11, 12], [7, 8, 9], [4, 5, 6], [1, 2, 3]]:\n",
    "        print('| ', end = '')\n",
    "        for pos in pos_range:\n",
    "            rack = ctx.deck[pos] \n",
    "            \n",
    "            if rack:\n",
    "                try:\n",
    "                    print(\"{:<35}\".format(str(pos) + \" : \"+ rack._name), end = ' | ')\n",
    "                except:\n",
    "                    pass  # Trash has no _name.\n",
    "                    print(\"{:<35}\".format(str(pos) + \" : Trash\"), end= ' | ')\n",
    "            else:\n",
    "                print(\"{:<35}\".format(str(pos) + ' :'), end = ' | ')\n",
    "        print()\n",
    "\n",
    "        \n",
    "rack_printer()"
   ]
  },
  {
   "cell_type": "code",
   "execution_count": 48,
   "metadata": {},
   "outputs": [
    {
     "data": {
      "text/plain": [
       "'opentrons_1_trash_1100ml_fixed'"
      ]
     },
     "execution_count": 48,
     "metadata": {},
     "output_type": "execute_result"
    }
   ],
   "source": []
  },
  {
   "cell_type": "code",
   "execution_count": null,
   "metadata": {},
   "outputs": [],
   "source": []
  },
  {
   "cell_type": "code",
   "execution_count": 111,
   "metadata": {},
   "outputs": [],
   "source": [
    "################################################################################\n",
    "# Declare which reagents are in each reservoir as well as deepwell and elution plate\n",
    "\n",
    "# setup samples and destinations\n",
    "sample_sources_full = generate_source_table(source_racks)\n",
    "sample_sources = sample_sources_full[:NUM_SAMPLES]\n",
    "destinations = dest_plate.wells()[:NUM_SAMPLES]\n",
    "\n",
    "# p20 = ctx.load_instrument(\n",
    "# 'p20_single_gen2', mount='right', tip_racks=tips20)\n",
    "p1000 = ctx.load_instrument(\n",
    "    'p1000_single_gen2', 'left', tip_racks=tips1000)  # load P1000 pipette\n",
    "\n",
    "# used tip counter and set maximum tips available\n",
    "tip_track = {\n",
    "    'counts': {p1000: 0},  # p1000: 0},\n",
    "    'maxes': {p1000: len(tips1000) * 96}  # ,p20: len(tips20)*96,\n",
    "}"
   ]
  },
  {
   "cell_type": "code",
   "execution_count": null,
   "metadata": {},
   "outputs": [],
   "source": []
  },
  {
   "cell_type": "code",
   "execution_count": 124,
   "metadata": {},
   "outputs": [
    {
     "name": "stdout",
     "output_type": "stream",
     "text": [
      "Step 1: Add samples (400ul)took 0:01:46.420180\n"
     ]
    }
   ],
   "source": [
    "############################################################################\n",
    "# STEP 1: Add Samples\n",
    "############################################################################\n",
    "STEP = 1\n",
    "if STEPS[STEP]['Execute'] == True:\n",
    "    ctx.comment('Step ' + str(STEP) + ': ' + STEPS[STEP]['description'])\n",
    "    ctx.comment('###############################################')\n",
    "\n",
    "    # Transfer parameters\n",
    "    start = datetime.now()\n",
    "    for s, d in zip(sample_sources[:4], destinations[:4]):\n",
    "        if not p1000.hw_pipette['has_tip']:\n",
    "            pick_up(p1000)\n",
    "        # Mix the sample BEFORE dispensing\n",
    "        #custom_mix(p1000, reagent = Samples, location = s, vol = volume_sample, rounds = 2, blow_out = True, mix_height = 15)\n",
    "        move_vol_multichannel(p1000, reagent = samples, source = s, dest = d,\n",
    "                              vol=volume_sample, air_gap_vol = air_gap_vol, x_offset = x_offset,\n",
    "                              pickup_height = 2, rinse = samples.rinse, disp_height = -10,\n",
    "                              blow_out = True, touch_tip = False)\n",
    "        # Mix the sample AFTER dispensing\n",
    "        #custom_mix(p1000, reagent = Samples, location = d, vol = volume_sample, rounds = 2, blow_out = True, mix_height = 15)\n",
    "        # Drop tip and update counter\n",
    "        p1000.drop_tip()\n",
    "        tip_track['counts'][p1000] += 1\n",
    "\n",
    "    # Time statistics\n",
    "    end = datetime.now()\n",
    "    time_taken = (end - start)\n",
    "    comment = 'Step ' + str(STEP) + ': ' + STEPS[STEP]['description'] +  'took ' + str(time_taken)\n",
    "    ctx.comment(comment)\n",
    "    print(comment)\n",
    "    STEPS[STEP]['Time:'] = str(time_taken)"
   ]
  },
  {
   "cell_type": "code",
   "execution_count": null,
   "metadata": {},
   "outputs": [],
   "source": [
    "# Export the time log to a tsv file\n",
    "if not ctx.is_simulating():\n",
    "    with open(file_path, 'w') as f:\n",
    "        f.write('STEP\\texecution\\tdescription\\twait_time\\texecution_time\\n')\n",
    "        for key in STEPS.keys():\n",
    "            row = str(key)\n",
    "            for key2 in STEPS[key].keys():\n",
    "                row += '\\t' + format(STEPS[key][key2])\n",
    "            f.write(row + '\\n')\n",
    "    f.close()\n",
    "    "
   ]
  },
  {
   "cell_type": "code",
   "execution_count": null,
   "metadata": {},
   "outputs": [],
   "source": [
    "############################################################################\n",
    "# Light flash end of program\n",
    "for i in range(3):\n",
    "    ctx.set_rail_lights(False)\n",
    "    time.sleep(0.3)\n",
    "    ctx.set_rail_lights(True)\n",
    "    time.sleep(0.3)\n",
    "ctx.comment(\n",
    "    'Finished! \\nMove deepwell plate (slot 5) to Station C for MMIX addition and qPCR preparation.')\n",
    "ctx.comment('Used p1000 tips in total: ' + str(tip_track['counts'][p1000]))\n",
    "ctx.comment('Used p1000 racks in total: ' +\n",
    "            str(tip_track['counts'][p1000] / 96))\n",
    "#ctx.comment('Used p20 tips in total: ' + str(tip_track['counts'][p20]))\n",
    "#ctx.comment('Used p20 racks in total: ' + str(tip_track['counts'][p20] / 96))"
   ]
  },
  {
   "cell_type": "code",
   "execution_count": null,
   "metadata": {},
   "outputs": [],
   "source": []
  }
 ],
 "metadata": {
  "kernelspec": {
   "display_name": "Python 3",
   "language": "python",
   "name": "python3"
  },
  "language_info": {
   "codemirror_mode": {
    "name": "ipython",
    "version": 3
   },
   "file_extension": ".py",
   "mimetype": "text/x-python",
   "name": "python",
   "nbconvert_exporter": "python",
   "pygments_lexer": "ipython3",
   "version": "3.7.1"
  }
 },
 "nbformat": 4,
 "nbformat_minor": 2
}
